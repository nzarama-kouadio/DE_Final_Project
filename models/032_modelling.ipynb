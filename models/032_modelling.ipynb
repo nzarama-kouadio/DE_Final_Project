{
 "cells": [
  {
   "cell_type": "markdown",
   "metadata": {},
   "source": [
    "### Data Modelling for Fraud Detection"
   ]
  },
  {
   "cell_type": "code",
   "execution_count": 22,
   "metadata": {},
   "outputs": [],
   "source": [
    "import pandas as pd\n",
    "import numpy as np\n",
    "from sklearn.model_selection import train_test_split\n",
    "from sklearn.ensemble import RandomForestClassifier, StackingClassifier\n",
    "from sklearn.metrics import classification_report, accuracy_score\n",
    "from xgboost import XGBClassifier\n",
    "from sklearn.neural_network import MLPClassifier\n",
    "from catboost import CatBoostClassifier\n",
    "from imblearn.over_sampling import SMOTE\n",
    "from sklearn.preprocessing import StandardScaler, OneHotEncoder\n",
    "from sklearn.compose import ColumnTransformer\n",
    "from sklearn.pipeline import Pipeline\n",
    "from sklearn.impute import SimpleImputer\n",
    "from sklearn.linear_model import LogisticRegression\n",
    "from sklearn.svm import SVC\n",
    "from sklearn.neighbors import KNeighborsClassifier\n",
    "from sklearn.pipeline import Pipeline\n",
    "from sklearn.impute import SimpleImputer\n",
    "from sklearn.ensemble import VotingClassifier"
   ]
  },
  {
   "cell_type": "code",
   "execution_count": 2,
   "metadata": {},
   "outputs": [
    {
     "data": {
      "text/html": [
       "<div>\n",
       "<style scoped>\n",
       "    .dataframe tbody tr th:only-of-type {\n",
       "        vertical-align: middle;\n",
       "    }\n",
       "\n",
       "    .dataframe tbody tr th {\n",
       "        vertical-align: top;\n",
       "    }\n",
       "\n",
       "    .dataframe thead th {\n",
       "        text-align: right;\n",
       "    }\n",
       "</style>\n",
       "<table border=\"1\" class=\"dataframe\">\n",
       "  <thead>\n",
       "    <tr style=\"text-align: right;\">\n",
       "      <th></th>\n",
       "      <th>TransactionID</th>\n",
       "      <th>Timestamp</th>\n",
       "      <th>MerchantID</th>\n",
       "      <th>Amount</th>\n",
       "      <th>CustomerID</th>\n",
       "      <th>TransactionAmount</th>\n",
       "      <th>AnomalyScore</th>\n",
       "      <th>FraudIndicator</th>\n",
       "      <th>Category</th>\n",
       "      <th>MerchantName</th>\n",
       "      <th>MerchantLocation</th>\n",
       "      <th>CustomerName</th>\n",
       "      <th>CustomerAge</th>\n",
       "      <th>CustomerAddress</th>\n",
       "    </tr>\n",
       "  </thead>\n",
       "  <tbody>\n",
       "    <tr>\n",
       "      <th>0</th>\n",
       "      <td>1</td>\n",
       "      <td>2022-01-01 00:00:00</td>\n",
       "      <td>2701</td>\n",
       "      <td>55.530334</td>\n",
       "      <td>1952</td>\n",
       "      <td>79.413607</td>\n",
       "      <td>0.686699</td>\n",
       "      <td>0</td>\n",
       "      <td>Other</td>\n",
       "      <td>Merchant 2701</td>\n",
       "      <td>Location 2701</td>\n",
       "      <td>Customer 1952</td>\n",
       "      <td>50</td>\n",
       "      <td>Address 1952</td>\n",
       "    </tr>\n",
       "    <tr>\n",
       "      <th>1</th>\n",
       "      <td>2</td>\n",
       "      <td>2022-01-01 01:00:00</td>\n",
       "      <td>2070</td>\n",
       "      <td>12.881180</td>\n",
       "      <td>1027</td>\n",
       "      <td>12.053087</td>\n",
       "      <td>0.081749</td>\n",
       "      <td>0</td>\n",
       "      <td>Online</td>\n",
       "      <td>Merchant 2070</td>\n",
       "      <td>Location 2070</td>\n",
       "      <td>Customer 1027</td>\n",
       "      <td>46</td>\n",
       "      <td>Address 1027</td>\n",
       "    </tr>\n",
       "    <tr>\n",
       "      <th>2</th>\n",
       "      <td>3</td>\n",
       "      <td>2022-01-01 02:00:00</td>\n",
       "      <td>2238</td>\n",
       "      <td>50.176322</td>\n",
       "      <td>1955</td>\n",
       "      <td>33.310357</td>\n",
       "      <td>0.023857</td>\n",
       "      <td>0</td>\n",
       "      <td>Travel</td>\n",
       "      <td>Merchant 2238</td>\n",
       "      <td>Location 2238</td>\n",
       "      <td>Customer 1955</td>\n",
       "      <td>34</td>\n",
       "      <td>Address 1955</td>\n",
       "    </tr>\n",
       "    <tr>\n",
       "      <th>3</th>\n",
       "      <td>4</td>\n",
       "      <td>2022-01-01 03:00:00</td>\n",
       "      <td>2879</td>\n",
       "      <td>41.634001</td>\n",
       "      <td>1796</td>\n",
       "      <td>46.121117</td>\n",
       "      <td>0.876994</td>\n",
       "      <td>0</td>\n",
       "      <td>Travel</td>\n",
       "      <td>Merchant 2879</td>\n",
       "      <td>Location 2879</td>\n",
       "      <td>Customer 1796</td>\n",
       "      <td>33</td>\n",
       "      <td>Address 1796</td>\n",
       "    </tr>\n",
       "    <tr>\n",
       "      <th>4</th>\n",
       "      <td>5</td>\n",
       "      <td>2022-01-01 04:00:00</td>\n",
       "      <td>2966</td>\n",
       "      <td>78.122853</td>\n",
       "      <td>1946</td>\n",
       "      <td>54.051618</td>\n",
       "      <td>0.034059</td>\n",
       "      <td>0</td>\n",
       "      <td>Other</td>\n",
       "      <td>Merchant 2966</td>\n",
       "      <td>Location 2966</td>\n",
       "      <td>Customer 1946</td>\n",
       "      <td>18</td>\n",
       "      <td>Address 1946</td>\n",
       "    </tr>\n",
       "  </tbody>\n",
       "</table>\n",
       "</div>"
      ],
      "text/plain": [
       "   TransactionID            Timestamp  MerchantID     Amount  CustomerID  \\\n",
       "0              1  2022-01-01 00:00:00        2701  55.530334        1952   \n",
       "1              2  2022-01-01 01:00:00        2070  12.881180        1027   \n",
       "2              3  2022-01-01 02:00:00        2238  50.176322        1955   \n",
       "3              4  2022-01-01 03:00:00        2879  41.634001        1796   \n",
       "4              5  2022-01-01 04:00:00        2966  78.122853        1946   \n",
       "\n",
       "   TransactionAmount  AnomalyScore  FraudIndicator Category   MerchantName  \\\n",
       "0          79.413607      0.686699               0    Other  Merchant 2701   \n",
       "1          12.053087      0.081749               0   Online  Merchant 2070   \n",
       "2          33.310357      0.023857               0   Travel  Merchant 2238   \n",
       "3          46.121117      0.876994               0   Travel  Merchant 2879   \n",
       "4          54.051618      0.034059               0    Other  Merchant 2966   \n",
       "\n",
       "  MerchantLocation   CustomerName  CustomerAge CustomerAddress  \n",
       "0    Location 2701  Customer 1952           50    Address 1952  \n",
       "1    Location 2070  Customer 1027           46    Address 1027  \n",
       "2    Location 2238  Customer 1955           34    Address 1955  \n",
       "3    Location 2879  Customer 1796           33    Address 1796  \n",
       "4    Location 2966  Customer 1946           18    Address 1946  "
      ]
     },
     "execution_count": 2,
     "metadata": {},
     "output_type": "execute_result"
    }
   ],
   "source": [
    "fraud = pd.read_csv(\"complete_dataset.csv\")\n",
    "fraud.head()"
   ]
  },
  {
   "cell_type": "code",
   "execution_count": 3,
   "metadata": {},
   "outputs": [],
   "source": [
    "# converting timestamp to a datetime object\n",
    "\n",
    "fraud[\"Timestamp\"] = pd.to_datetime(fraud[\"Timestamp\"])\n",
    "\n",
    "# Extract useful time-based features\n",
    "fraud[\"Hour\"] = fraud[\"Timestamp\"].dt.hour\n",
    "fraud[\"Day\"] = fraud[\"Timestamp\"].dt.day\n",
    "fraud[\"Month\"] = fraud[\"Timestamp\"].dt.month\n",
    "fraud[\"Weekday\"] = fraud[\"Timestamp\"].dt.weekday\n",
    "fraud[\"Year\"] = fraud[\"Timestamp\"].dt.year"
   ]
  },
  {
   "cell_type": "code",
   "execution_count": 4,
   "metadata": {},
   "outputs": [],
   "source": [
    "fraud = fraud.drop(columns=[\"Timestamp\"])"
   ]
  },
  {
   "cell_type": "code",
   "execution_count": 5,
   "metadata": {},
   "outputs": [
    {
     "data": {
      "text/html": [
       "<div>\n",
       "<style scoped>\n",
       "    .dataframe tbody tr th:only-of-type {\n",
       "        vertical-align: middle;\n",
       "    }\n",
       "\n",
       "    .dataframe tbody tr th {\n",
       "        vertical-align: top;\n",
       "    }\n",
       "\n",
       "    .dataframe thead th {\n",
       "        text-align: right;\n",
       "    }\n",
       "</style>\n",
       "<table border=\"1\" class=\"dataframe\">\n",
       "  <thead>\n",
       "    <tr style=\"text-align: right;\">\n",
       "      <th></th>\n",
       "      <th>TransactionID</th>\n",
       "      <th>MerchantID</th>\n",
       "      <th>Amount</th>\n",
       "      <th>CustomerID</th>\n",
       "      <th>TransactionAmount</th>\n",
       "      <th>AnomalyScore</th>\n",
       "      <th>FraudIndicator</th>\n",
       "      <th>Category</th>\n",
       "      <th>MerchantName</th>\n",
       "      <th>MerchantLocation</th>\n",
       "      <th>CustomerName</th>\n",
       "      <th>CustomerAge</th>\n",
       "      <th>CustomerAddress</th>\n",
       "      <th>Hour</th>\n",
       "      <th>Day</th>\n",
       "      <th>Month</th>\n",
       "      <th>Weekday</th>\n",
       "      <th>Year</th>\n",
       "    </tr>\n",
       "  </thead>\n",
       "  <tbody>\n",
       "    <tr>\n",
       "      <th>0</th>\n",
       "      <td>1</td>\n",
       "      <td>2701</td>\n",
       "      <td>55.530334</td>\n",
       "      <td>1952</td>\n",
       "      <td>79.413607</td>\n",
       "      <td>0.686699</td>\n",
       "      <td>0</td>\n",
       "      <td>Other</td>\n",
       "      <td>Merchant 2701</td>\n",
       "      <td>Location 2701</td>\n",
       "      <td>Customer 1952</td>\n",
       "      <td>50</td>\n",
       "      <td>Address 1952</td>\n",
       "      <td>0</td>\n",
       "      <td>1</td>\n",
       "      <td>1</td>\n",
       "      <td>5</td>\n",
       "      <td>2022</td>\n",
       "    </tr>\n",
       "    <tr>\n",
       "      <th>1</th>\n",
       "      <td>2</td>\n",
       "      <td>2070</td>\n",
       "      <td>12.881180</td>\n",
       "      <td>1027</td>\n",
       "      <td>12.053087</td>\n",
       "      <td>0.081749</td>\n",
       "      <td>0</td>\n",
       "      <td>Online</td>\n",
       "      <td>Merchant 2070</td>\n",
       "      <td>Location 2070</td>\n",
       "      <td>Customer 1027</td>\n",
       "      <td>46</td>\n",
       "      <td>Address 1027</td>\n",
       "      <td>1</td>\n",
       "      <td>1</td>\n",
       "      <td>1</td>\n",
       "      <td>5</td>\n",
       "      <td>2022</td>\n",
       "    </tr>\n",
       "    <tr>\n",
       "      <th>2</th>\n",
       "      <td>3</td>\n",
       "      <td>2238</td>\n",
       "      <td>50.176322</td>\n",
       "      <td>1955</td>\n",
       "      <td>33.310357</td>\n",
       "      <td>0.023857</td>\n",
       "      <td>0</td>\n",
       "      <td>Travel</td>\n",
       "      <td>Merchant 2238</td>\n",
       "      <td>Location 2238</td>\n",
       "      <td>Customer 1955</td>\n",
       "      <td>34</td>\n",
       "      <td>Address 1955</td>\n",
       "      <td>2</td>\n",
       "      <td>1</td>\n",
       "      <td>1</td>\n",
       "      <td>5</td>\n",
       "      <td>2022</td>\n",
       "    </tr>\n",
       "    <tr>\n",
       "      <th>3</th>\n",
       "      <td>4</td>\n",
       "      <td>2879</td>\n",
       "      <td>41.634001</td>\n",
       "      <td>1796</td>\n",
       "      <td>46.121117</td>\n",
       "      <td>0.876994</td>\n",
       "      <td>0</td>\n",
       "      <td>Travel</td>\n",
       "      <td>Merchant 2879</td>\n",
       "      <td>Location 2879</td>\n",
       "      <td>Customer 1796</td>\n",
       "      <td>33</td>\n",
       "      <td>Address 1796</td>\n",
       "      <td>3</td>\n",
       "      <td>1</td>\n",
       "      <td>1</td>\n",
       "      <td>5</td>\n",
       "      <td>2022</td>\n",
       "    </tr>\n",
       "    <tr>\n",
       "      <th>4</th>\n",
       "      <td>5</td>\n",
       "      <td>2966</td>\n",
       "      <td>78.122853</td>\n",
       "      <td>1946</td>\n",
       "      <td>54.051618</td>\n",
       "      <td>0.034059</td>\n",
       "      <td>0</td>\n",
       "      <td>Other</td>\n",
       "      <td>Merchant 2966</td>\n",
       "      <td>Location 2966</td>\n",
       "      <td>Customer 1946</td>\n",
       "      <td>18</td>\n",
       "      <td>Address 1946</td>\n",
       "      <td>4</td>\n",
       "      <td>1</td>\n",
       "      <td>1</td>\n",
       "      <td>5</td>\n",
       "      <td>2022</td>\n",
       "    </tr>\n",
       "  </tbody>\n",
       "</table>\n",
       "</div>"
      ],
      "text/plain": [
       "   TransactionID  MerchantID     Amount  CustomerID  TransactionAmount  \\\n",
       "0              1        2701  55.530334        1952          79.413607   \n",
       "1              2        2070  12.881180        1027          12.053087   \n",
       "2              3        2238  50.176322        1955          33.310357   \n",
       "3              4        2879  41.634001        1796          46.121117   \n",
       "4              5        2966  78.122853        1946          54.051618   \n",
       "\n",
       "   AnomalyScore  FraudIndicator Category   MerchantName MerchantLocation  \\\n",
       "0      0.686699               0    Other  Merchant 2701    Location 2701   \n",
       "1      0.081749               0   Online  Merchant 2070    Location 2070   \n",
       "2      0.023857               0   Travel  Merchant 2238    Location 2238   \n",
       "3      0.876994               0   Travel  Merchant 2879    Location 2879   \n",
       "4      0.034059               0    Other  Merchant 2966    Location 2966   \n",
       "\n",
       "    CustomerName  CustomerAge CustomerAddress  Hour  Day  Month  Weekday  Year  \n",
       "0  Customer 1952           50    Address 1952     0    1      1        5  2022  \n",
       "1  Customer 1027           46    Address 1027     1    1      1        5  2022  \n",
       "2  Customer 1955           34    Address 1955     2    1      1        5  2022  \n",
       "3  Customer 1796           33    Address 1796     3    1      1        5  2022  \n",
       "4  Customer 1946           18    Address 1946     4    1      1        5  2022  "
      ]
     },
     "execution_count": 5,
     "metadata": {},
     "output_type": "execute_result"
    }
   ],
   "source": [
    "fraud.head()"
   ]
  },
  {
   "cell_type": "code",
   "execution_count": null,
   "metadata": {},
   "outputs": [],
   "source": [
    "# dropping unwanted columns\n",
    "fraud = fraud.drop(\n",
    "    [\n",
    "        \"TransactionID\",\n",
    "        \"MerchantID\",\n",
    "        \"CustomerID\",\n",
    "        \"MerchantName\",\n",
    "        \"MerchantLocation\",\n",
    "        \"CustomerName\",\n",
    "        \"CustomerAddress\",\n",
    "    ],\n",
    "    axis=1,\n",
    ")"
   ]
  },
  {
   "cell_type": "code",
   "execution_count": 7,
   "metadata": {},
   "outputs": [
    {
     "data": {
      "text/html": [
       "<div>\n",
       "<style scoped>\n",
       "    .dataframe tbody tr th:only-of-type {\n",
       "        vertical-align: middle;\n",
       "    }\n",
       "\n",
       "    .dataframe tbody tr th {\n",
       "        vertical-align: top;\n",
       "    }\n",
       "\n",
       "    .dataframe thead th {\n",
       "        text-align: right;\n",
       "    }\n",
       "</style>\n",
       "<table border=\"1\" class=\"dataframe\">\n",
       "  <thead>\n",
       "    <tr style=\"text-align: right;\">\n",
       "      <th></th>\n",
       "      <th>Amount</th>\n",
       "      <th>TransactionAmount</th>\n",
       "      <th>AnomalyScore</th>\n",
       "      <th>FraudIndicator</th>\n",
       "      <th>Category</th>\n",
       "      <th>CustomerAge</th>\n",
       "      <th>Hour</th>\n",
       "      <th>Day</th>\n",
       "      <th>Month</th>\n",
       "      <th>Weekday</th>\n",
       "      <th>Year</th>\n",
       "    </tr>\n",
       "  </thead>\n",
       "  <tbody>\n",
       "    <tr>\n",
       "      <th>0</th>\n",
       "      <td>55.530334</td>\n",
       "      <td>79.413607</td>\n",
       "      <td>0.686699</td>\n",
       "      <td>0</td>\n",
       "      <td>Other</td>\n",
       "      <td>50</td>\n",
       "      <td>0</td>\n",
       "      <td>1</td>\n",
       "      <td>1</td>\n",
       "      <td>5</td>\n",
       "      <td>2022</td>\n",
       "    </tr>\n",
       "    <tr>\n",
       "      <th>1</th>\n",
       "      <td>12.881180</td>\n",
       "      <td>12.053087</td>\n",
       "      <td>0.081749</td>\n",
       "      <td>0</td>\n",
       "      <td>Online</td>\n",
       "      <td>46</td>\n",
       "      <td>1</td>\n",
       "      <td>1</td>\n",
       "      <td>1</td>\n",
       "      <td>5</td>\n",
       "      <td>2022</td>\n",
       "    </tr>\n",
       "    <tr>\n",
       "      <th>2</th>\n",
       "      <td>50.176322</td>\n",
       "      <td>33.310357</td>\n",
       "      <td>0.023857</td>\n",
       "      <td>0</td>\n",
       "      <td>Travel</td>\n",
       "      <td>34</td>\n",
       "      <td>2</td>\n",
       "      <td>1</td>\n",
       "      <td>1</td>\n",
       "      <td>5</td>\n",
       "      <td>2022</td>\n",
       "    </tr>\n",
       "    <tr>\n",
       "      <th>3</th>\n",
       "      <td>41.634001</td>\n",
       "      <td>46.121117</td>\n",
       "      <td>0.876994</td>\n",
       "      <td>0</td>\n",
       "      <td>Travel</td>\n",
       "      <td>33</td>\n",
       "      <td>3</td>\n",
       "      <td>1</td>\n",
       "      <td>1</td>\n",
       "      <td>5</td>\n",
       "      <td>2022</td>\n",
       "    </tr>\n",
       "    <tr>\n",
       "      <th>4</th>\n",
       "      <td>78.122853</td>\n",
       "      <td>54.051618</td>\n",
       "      <td>0.034059</td>\n",
       "      <td>0</td>\n",
       "      <td>Other</td>\n",
       "      <td>18</td>\n",
       "      <td>4</td>\n",
       "      <td>1</td>\n",
       "      <td>1</td>\n",
       "      <td>5</td>\n",
       "      <td>2022</td>\n",
       "    </tr>\n",
       "  </tbody>\n",
       "</table>\n",
       "</div>"
      ],
      "text/plain": [
       "      Amount  TransactionAmount  AnomalyScore  FraudIndicator Category  \\\n",
       "0  55.530334          79.413607      0.686699               0    Other   \n",
       "1  12.881180          12.053087      0.081749               0   Online   \n",
       "2  50.176322          33.310357      0.023857               0   Travel   \n",
       "3  41.634001          46.121117      0.876994               0   Travel   \n",
       "4  78.122853          54.051618      0.034059               0    Other   \n",
       "\n",
       "   CustomerAge  Hour  Day  Month  Weekday  Year  \n",
       "0           50     0    1      1        5  2022  \n",
       "1           46     1    1      1        5  2022  \n",
       "2           34     2    1      1        5  2022  \n",
       "3           33     3    1      1        5  2022  \n",
       "4           18     4    1      1        5  2022  "
      ]
     },
     "execution_count": 7,
     "metadata": {},
     "output_type": "execute_result"
    }
   ],
   "source": [
    "fraud.head()"
   ]
  },
  {
   "cell_type": "code",
   "execution_count": 8,
   "metadata": {},
   "outputs": [],
   "source": [
    "# split into features (X) and target (y)\n",
    "X = fraud.drop(columns=[\"FraudIndicator\"])\n",
    "y = fraud[\"FraudIndicator\"]\n",
    "\n",
    "# train-test split\n",
    "X_train, X_val, y_train, y_val = train_test_split(X, y, test_size=0.2, random_state=42)"
   ]
  },
  {
   "cell_type": "code",
   "execution_count": 9,
   "metadata": {},
   "outputs": [],
   "source": [
    "categorical_features = [\"Category\"]\n",
    "\n",
    "numerical_features = [col for col in X.columns if col not in categorical_features]"
   ]
  },
  {
   "cell_type": "code",
   "execution_count": null,
   "metadata": {},
   "outputs": [],
   "source": [
    "# preprocessing pipeline\n",
    "preprocessor = ColumnTransformer(\n",
    "    transformers=[\n",
    "        (\"num\", StandardScaler(), numerical_features),\n",
    "        (\"cat\", OneHotEncoder(handle_unknown=\"ignore\"), categorical_features),\n",
    "    ]\n",
    ")"
   ]
  },
  {
   "cell_type": "code",
   "execution_count": 11,
   "metadata": {},
   "outputs": [],
   "source": [
    "# apply the preprocessing pipeline to the features\n",
    "X_train_processed = preprocessor.fit_transform(X_train)\n",
    "X_val_processed = preprocessor.transform(X_val)"
   ]
  },
  {
   "cell_type": "code",
   "execution_count": 12,
   "metadata": {},
   "outputs": [],
   "source": [
    "# applying SMOTE for oversampling of minority classes\n",
    "# the data has a lot more of non fraud cases than fraud ones\n",
    "# so SMOTE helps with the imbalanced sampling\n",
    "smote = SMOTE(random_state=42)\n",
    "X_train_res, y_train_res = smote.fit_resample(X_train_processed, y_train)"
   ]
  },
  {
   "cell_type": "markdown",
   "metadata": {},
   "source": [
    "#### 1. Random Forest Classifier"
   ]
  },
  {
   "cell_type": "code",
   "execution_count": 13,
   "metadata": {},
   "outputs": [
    {
     "name": "stdout",
     "output_type": "stream",
     "text": [
      "Training Random Forest Classifier...\n",
      "\n",
      "Random Forest - Classification Report:\n",
      "              precision    recall  f1-score   support\n",
      "\n",
      "           0       0.96      1.00      0.98       193\n",
      "           1       0.00      0.00      0.00         7\n",
      "\n",
      "    accuracy                           0.96       200\n",
      "   macro avg       0.48      0.50      0.49       200\n",
      "weighted avg       0.93      0.96      0.95       200\n",
      "\n"
     ]
    },
    {
     "name": "stderr",
     "output_type": "stream",
     "text": [
      "/Users/nrutachoudhari/opt/miniconda3/lib/python3.12/site-packages/sklearn/metrics/_classification.py:1531: UndefinedMetricWarning: Precision is ill-defined and being set to 0.0 in labels with no predicted samples. Use `zero_division` parameter to control this behavior.\n",
      "  _warn_prf(average, modifier, f\"{metric.capitalize()} is\", len(result))\n",
      "/Users/nrutachoudhari/opt/miniconda3/lib/python3.12/site-packages/sklearn/metrics/_classification.py:1531: UndefinedMetricWarning: Precision is ill-defined and being set to 0.0 in labels with no predicted samples. Use `zero_division` parameter to control this behavior.\n",
      "  _warn_prf(average, modifier, f\"{metric.capitalize()} is\", len(result))\n",
      "/Users/nrutachoudhari/opt/miniconda3/lib/python3.12/site-packages/sklearn/metrics/_classification.py:1531: UndefinedMetricWarning: Precision is ill-defined and being set to 0.0 in labels with no predicted samples. Use `zero_division` parameter to control this behavior.\n",
      "  _warn_prf(average, modifier, f\"{metric.capitalize()} is\", len(result))\n"
     ]
    }
   ],
   "source": [
    "rf = RandomForestClassifier(random_state=42)\n",
    "print(\"Training Random Forest Classifier...\")\n",
    "rf.fit(X_train_res, y_train_res)\n",
    "rf_pred = rf.predict(X_val_processed)\n",
    "\n",
    "print(\"\\nRandom Forest - Classification Report:\")\n",
    "print(classification_report(y_val, rf_pred))"
   ]
  },
  {
   "cell_type": "markdown",
   "metadata": {},
   "source": [
    "#### 2. XGBoost Classifier"
   ]
  },
  {
   "cell_type": "code",
   "execution_count": 15,
   "metadata": {},
   "outputs": [
    {
     "name": "stdout",
     "output_type": "stream",
     "text": [
      "Training XGBoost Classifier...\n",
      "\n",
      "XGBoost - Classification Report:\n",
      "              precision    recall  f1-score   support\n",
      "\n",
      "           0       0.96      0.99      0.98       193\n",
      "           1       0.00      0.00      0.00         7\n",
      "\n",
      "    accuracy                           0.95       200\n",
      "   macro avg       0.48      0.49      0.49       200\n",
      "weighted avg       0.93      0.95      0.94       200\n",
      "\n"
     ]
    }
   ],
   "source": [
    "xgb = XGBClassifier(random_state=42)\n",
    "print(\"Training XGBoost Classifier...\")\n",
    "xgb.fit(X_train_res, y_train_res)\n",
    "xgb_pred = xgb.predict(X_val_processed)\n",
    "\n",
    "print(\"\\nXGBoost - Classification Report:\")\n",
    "print(classification_report(y_val, xgb_pred))"
   ]
  },
  {
   "cell_type": "markdown",
   "metadata": {},
   "source": [
    "#### 3. Neural Network (MLPClassifier)"
   ]
  },
  {
   "cell_type": "code",
   "execution_count": 16,
   "metadata": {},
   "outputs": [
    {
     "name": "stdout",
     "output_type": "stream",
     "text": [
      "Training Neural Network (MLPClassifier)...\n",
      "\n",
      "Neural Network - Classification Report:\n",
      "              precision    recall  f1-score   support\n",
      "\n",
      "           0       0.96      0.98      0.97       193\n",
      "           1       0.00      0.00      0.00         7\n",
      "\n",
      "    accuracy                           0.94       200\n",
      "   macro avg       0.48      0.49      0.49       200\n",
      "weighted avg       0.93      0.94      0.94       200\n",
      "\n"
     ]
    },
    {
     "name": "stderr",
     "output_type": "stream",
     "text": [
      "/Users/nrutachoudhari/opt/miniconda3/lib/python3.12/site-packages/sklearn/neural_network/_multilayer_perceptron.py:690: ConvergenceWarning: Stochastic Optimizer: Maximum iterations (200) reached and the optimization hasn't converged yet.\n",
      "  warnings.warn(\n"
     ]
    }
   ],
   "source": [
    "nn = MLPClassifier(random_state=42)\n",
    "print(\"Training Neural Network (MLPClassifier)...\")\n",
    "nn.fit(X_train_res, y_train_res)\n",
    "nn_pred = nn.predict(X_val_processed)\n",
    "\n",
    "print(\"\\nNeural Network - Classification Report:\")\n",
    "print(classification_report(y_val, nn_pred))"
   ]
  },
  {
   "cell_type": "markdown",
   "metadata": {},
   "source": [
    "#### 4. Logistic Regression with Class Weights"
   ]
  },
  {
   "cell_type": "code",
   "execution_count": null,
   "metadata": {},
   "outputs": [
    {
     "name": "stdout",
     "output_type": "stream",
     "text": [
      "Training Logistic Regression...\n",
      "\n",
      "Logistic Regression - Classification Report:\n",
      "              precision    recall  f1-score   support\n",
      "\n",
      "           0       0.96      0.63      0.76       193\n",
      "           1       0.03      0.29      0.05         7\n",
      "\n",
      "    accuracy                           0.62       200\n",
      "   macro avg       0.49      0.46      0.41       200\n",
      "weighted avg       0.93      0.62      0.74       200\n",
      "\n"
     ]
    }
   ],
   "source": [
    "log_reg = LogisticRegression(class_weight=\"balanced\", random_state=42)\n",
    "print(\"Training Logistic Regression...\")\n",
    "log_reg.fit(X_train_res, y_train_res)\n",
    "log_reg_pred = log_reg.predict(X_val_processed)\n",
    "\n",
    "print(\"\\nLogistic Regression - Classification Report:\")\n",
    "print(classification_report(y_val, log_reg_pred))"
   ]
  },
  {
   "cell_type": "markdown",
   "metadata": {},
   "source": [
    "#### 5. SVM with Class Weights"
   ]
  },
  {
   "cell_type": "code",
   "execution_count": null,
   "metadata": {},
   "outputs": [
    {
     "name": "stdout",
     "output_type": "stream",
     "text": [
      "Training Support Vector Machine...\n",
      "\n",
      "SVM - Classification Report:\n",
      "              precision    recall  f1-score   support\n",
      "\n",
      "           0       0.97      0.94      0.96       193\n",
      "           1       0.08      0.14      0.11         7\n",
      "\n",
      "    accuracy                           0.92       200\n",
      "   macro avg       0.53      0.54      0.53       200\n",
      "weighted avg       0.94      0.92      0.93       200\n",
      "\n"
     ]
    }
   ],
   "source": [
    "svm = SVC(class_weight=\"balanced\", random_state=42)\n",
    "print(\"Training Support Vector Machine...\")\n",
    "svm.fit(X_train_res, y_train_res)\n",
    "svm_pred = svm.predict(X_val_processed)\n",
    "\n",
    "print(\"\\nSVM - Classification Report:\")\n",
    "print(classification_report(y_val, svm_pred))"
   ]
  },
  {
   "cell_type": "markdown",
   "metadata": {},
   "source": [
    "#### 6. K-Nearest Neighbors"
   ]
  },
  {
   "cell_type": "code",
   "execution_count": 20,
   "metadata": {},
   "outputs": [
    {
     "name": "stdout",
     "output_type": "stream",
     "text": [
      "Training K-Nearest Neighbors...\n",
      "\n",
      "K-Nearest Neighbors - Classification Report:\n",
      "              precision    recall  f1-score   support\n",
      "\n",
      "           0       0.97      0.76      0.85       193\n",
      "           1       0.04      0.29      0.07         7\n",
      "\n",
      "    accuracy                           0.74       200\n",
      "   macro avg       0.50      0.52      0.46       200\n",
      "weighted avg       0.93      0.74      0.82       200\n",
      "\n"
     ]
    }
   ],
   "source": [
    "knn = KNeighborsClassifier()\n",
    "print(\"Training K-Nearest Neighbors...\")\n",
    "knn.fit(X_train_res, y_train_res)\n",
    "knn_pred = knn.predict(X_val_processed)\n",
    "\n",
    "print(\"\\nK-Nearest Neighbors - Classification Report:\")\n",
    "print(classification_report(y_val, knn_pred))"
   ]
  },
  {
   "cell_type": "markdown",
   "metadata": {},
   "source": [
    "#### 7. Stacking Ensemble"
   ]
  },
  {
   "cell_type": "code",
   "execution_count": null,
   "metadata": {},
   "outputs": [
    {
     "name": "stdout",
     "output_type": "stream",
     "text": [
      "Training Stacking Ensemble...\n",
      "\n",
      "Stacking Ensemble - Classification Report:\n",
      "              precision    recall  f1-score   support\n",
      "\n",
      "           0       0.96      1.00      0.98       193\n",
      "           1       0.00      0.00      0.00         7\n",
      "\n",
      "    accuracy                           0.96       200\n",
      "   macro avg       0.48      0.50      0.49       200\n",
      "weighted avg       0.93      0.96      0.95       200\n",
      "\n"
     ]
    },
    {
     "name": "stderr",
     "output_type": "stream",
     "text": [
      "/Users/nrutachoudhari/opt/miniconda3/lib/python3.12/site-packages/sklearn/metrics/_classification.py:1531: UndefinedMetricWarning: Precision is ill-defined and being set to 0.0 in labels with no predicted samples. Use `zero_division` parameter to control this behavior.\n",
      "  _warn_prf(average, modifier, f\"{metric.capitalize()} is\", len(result))\n",
      "/Users/nrutachoudhari/opt/miniconda3/lib/python3.12/site-packages/sklearn/metrics/_classification.py:1531: UndefinedMetricWarning: Precision is ill-defined and being set to 0.0 in labels with no predicted samples. Use `zero_division` parameter to control this behavior.\n",
      "  _warn_prf(average, modifier, f\"{metric.capitalize()} is\", len(result))\n",
      "/Users/nrutachoudhari/opt/miniconda3/lib/python3.12/site-packages/sklearn/metrics/_classification.py:1531: UndefinedMetricWarning: Precision is ill-defined and being set to 0.0 in labels with no predicted samples. Use `zero_division` parameter to control this behavior.\n",
      "  _warn_prf(average, modifier, f\"{metric.capitalize()} is\", len(result))\n"
     ]
    }
   ],
   "source": [
    "# Define the base models for the ensemble\n",
    "base_learners = [\n",
    "    (\"rf\", RandomForestClassifier(random_state=42)),\n",
    "    (\"xgb\", XGBClassifier(random_state=42)),\n",
    "    (\"log_reg\", LogisticRegression(class_weight=\"balanced\", random_state=42)),\n",
    "]\n",
    "\n",
    "# Define the meta-model for the stacking ensemble\n",
    "meta_model = LogisticRegression()\n",
    "\n",
    "# Create the stacking ensemble\n",
    "stacking = StackingClassifier(estimators=base_learners, final_estimator=meta_model)\n",
    "\n",
    "print(\"Training Stacking Ensemble...\")\n",
    "stacking.fit(X_train_res, y_train_res)\n",
    "stacking_pred = stacking.predict(X_val_processed)\n",
    "\n",
    "print(\"\\nStacking Ensemble - Classification Report:\")\n",
    "print(classification_report(y_val, stacking_pred))"
   ]
  },
  {
   "cell_type": "markdown",
   "metadata": {},
   "source": [
    "#### 8. CatBoost"
   ]
  },
  {
   "cell_type": "code",
   "execution_count": null,
   "metadata": {},
   "outputs": [
    {
     "name": "stdout",
     "output_type": "stream",
     "text": [
      "Training CatBoost Classifier...\n",
      "0:\tlearn: 0.4327908\ttotal: 66.6ms\tremaining: 1m 6s\n",
      "200:\tlearn: 0.0006879\ttotal: 248ms\tremaining: 984ms\n",
      "400:\tlearn: 0.0006831\ttotal: 366ms\tremaining: 546ms\n",
      "600:\tlearn: 0.0006778\ttotal: 480ms\tremaining: 319ms\n",
      "800:\tlearn: 0.0006725\ttotal: 600ms\tremaining: 149ms\n",
      "999:\tlearn: 0.0006683\ttotal: 721ms\tremaining: 0us\n",
      "\n",
      "CatBoost - Classification Report:\n",
      "              precision    recall  f1-score   support\n",
      "\n",
      "           0       0.95      0.20      0.33       193\n",
      "           1       0.03      0.71      0.06         7\n",
      "\n",
      "    accuracy                           0.21       200\n",
      "   macro avg       0.49      0.46      0.19       200\n",
      "weighted avg       0.92      0.21      0.32       200\n",
      "\n"
     ]
    }
   ],
   "source": [
    "# for CatBoost, the preprocessing will be different\n",
    "\n",
    "preprocessor_cat = ColumnTransformer(\n",
    "    transformers=[\n",
    "        (\"num\", StandardScaler(), numerical_features)  # Only scale numerical features\n",
    "    ]\n",
    ")\n",
    "\n",
    "# applying preprocessing to numerical features\n",
    "X_train_cat = preprocessor_cat.fit_transform(X_train)\n",
    "X_val_cat = preprocessor_cat.transform(X_val)\n",
    "\n",
    "# Apply SMOTE to numerical data\n",
    "smote = SMOTE(random_state=42)\n",
    "X_train_res_cat, y_train_res_cat = smote.fit_resample(X_train_cat, y_train)\n",
    "\n",
    "# Convert resampled numerical data back to a DataFrame\n",
    "X_train_res_cat_df = pd.DataFrame(X_train_res_cat, columns=numerical_features)\n",
    "\n",
    "# Extract the indices of the resampled data\n",
    "resampled_indices = smote.fit_resample(X_train_cat, y_train)[\n",
    "    1\n",
    "]  # Second output is resampled indices\n",
    "\n",
    "# Map the categorical features to the resampled indices\n",
    "categorical_resampled = (\n",
    "    X_train[categorical_features].iloc[resampled_indices].reset_index(drop=True)\n",
    ")\n",
    "\n",
    "# Combine numerical and categorical features\n",
    "X_train_res_cat_df[categorical_features] = categorical_resampled\n",
    "\n",
    "# Prepare validation data\n",
    "X_val_cat_df = pd.DataFrame(X_val_cat, columns=numerical_features)\n",
    "X_val_cat_df[categorical_features] = X_val[categorical_features].reset_index(drop=True)\n",
    "\n",
    "# Initialize and train CatBoost Classifier\n",
    "catboost = CatBoostClassifier(\n",
    "    cat_features=list(\n",
    "        range(\n",
    "            len(numerical_features), len(numerical_features) + len(categorical_features)\n",
    "        )\n",
    "    ),\n",
    "    iterations=1000,\n",
    "    learning_rate=0.1,\n",
    "    depth=6,\n",
    "    random_state=42,\n",
    "    verbose=200,\n",
    ")\n",
    "\n",
    "print(\"Training CatBoost Classifier...\")\n",
    "catboost.fit(X_train_res_cat_df, y_train_res_cat)\n",
    "\n",
    "# Predict and evaluate performance\n",
    "catboost_pred = catboost.predict(X_val_cat_df)\n",
    "\n",
    "# Print classification report\n",
    "print(\"\\nCatBoost - Classification Report:\")\n",
    "print(classification_report(y_val, catboost_pred))"
   ]
  },
  {
   "cell_type": "code",
   "execution_count": null,
   "metadata": {},
   "outputs": [],
   "source": []
  }
 ],
 "metadata": {
  "kernelspec": {
   "display_name": "base",
   "language": "python",
   "name": "python3"
  },
  "language_info": {
   "codemirror_mode": {
    "name": "ipython",
    "version": 3
   },
   "file_extension": ".py",
   "mimetype": "text/x-python",
   "name": "python",
   "nbconvert_exporter": "python",
   "pygments_lexer": "ipython3",
   "version": "3.12.2"
  }
 },
 "nbformat": 4,
 "nbformat_minor": 2
}
